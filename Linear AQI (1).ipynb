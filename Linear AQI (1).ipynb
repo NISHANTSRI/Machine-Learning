{
 "cells": [
  {
   "cell_type": "code",
   "execution_count": 1,
   "id": "b76680de",
   "metadata": {},
   "outputs": [],
   "source": [
    "%matplotlib inline\n",
    "import numpy as np \n",
    "import pandas as pd\n",
    "import matplotlib.pyplot as plt\n"
   ]
  },
  {
   "cell_type": "code",
   "execution_count": 2,
   "id": "4d27ccd9",
   "metadata": {},
   "outputs": [
    {
     "data": {
      "text/html": [
       "<div>\n",
       "<style scoped>\n",
       "    .dataframe tbody tr th:only-of-type {\n",
       "        vertical-align: middle;\n",
       "    }\n",
       "\n",
       "    .dataframe tbody tr th {\n",
       "        vertical-align: top;\n",
       "    }\n",
       "\n",
       "    .dataframe thead th {\n",
       "        text-align: right;\n",
       "    }\n",
       "</style>\n",
       "<table border=\"1\" class=\"dataframe\">\n",
       "  <thead>\n",
       "    <tr style=\"text-align: right;\">\n",
       "      <th></th>\n",
       "      <th>id</th>\n",
       "      <th>country</th>\n",
       "      <th>state</th>\n",
       "      <th>city</th>\n",
       "      <th>station</th>\n",
       "      <th>last_update</th>\n",
       "      <th>PM2.5</th>\n",
       "      <th>PM10</th>\n",
       "      <th>NO2</th>\n",
       "      <th>NH3</th>\n",
       "      <th>SO2</th>\n",
       "      <th>CO</th>\n",
       "      <th>OZONE</th>\n",
       "      <th>AQI</th>\n",
       "      <th>Air Quality</th>\n",
       "    </tr>\n",
       "  </thead>\n",
       "  <tbody>\n",
       "    <tr>\n",
       "      <th>271</th>\n",
       "      <td>272</td>\n",
       "      <td>India</td>\n",
       "      <td>West_Bengal</td>\n",
       "      <td>Howrah</td>\n",
       "      <td>Belur Math, Howrah - WBPCB</td>\n",
       "      <td>21-10-2021 01:00:00</td>\n",
       "      <td>70</td>\n",
       "      <td>92</td>\n",
       "      <td>61</td>\n",
       "      <td>4</td>\n",
       "      <td>9</td>\n",
       "      <td>74</td>\n",
       "      <td>10</td>\n",
       "      <td>345</td>\n",
       "      <td>4</td>\n",
       "    </tr>\n",
       "    <tr>\n",
       "      <th>272</th>\n",
       "      <td>273</td>\n",
       "      <td>India</td>\n",
       "      <td>West_Bengal</td>\n",
       "      <td>Howrah</td>\n",
       "      <td>Ghusuri, Howrah - WBPCB</td>\n",
       "      <td>21-10-2021 01:00:00</td>\n",
       "      <td>123</td>\n",
       "      <td>116</td>\n",
       "      <td>0</td>\n",
       "      <td>4</td>\n",
       "      <td>7</td>\n",
       "      <td>80</td>\n",
       "      <td>20</td>\n",
       "      <td>357</td>\n",
       "      <td>4</td>\n",
       "    </tr>\n",
       "    <tr>\n",
       "      <th>273</th>\n",
       "      <td>274</td>\n",
       "      <td>India</td>\n",
       "      <td>West_Bengal</td>\n",
       "      <td>Howrah</td>\n",
       "      <td>Padmapukur, Howrah - WBPCB</td>\n",
       "      <td>21-10-2021 01:00:00</td>\n",
       "      <td>57</td>\n",
       "      <td>57</td>\n",
       "      <td>6</td>\n",
       "      <td>3</td>\n",
       "      <td>4</td>\n",
       "      <td>27</td>\n",
       "      <td>19</td>\n",
       "      <td>188</td>\n",
       "      <td>2</td>\n",
       "    </tr>\n",
       "    <tr>\n",
       "      <th>274</th>\n",
       "      <td>275</td>\n",
       "      <td>India</td>\n",
       "      <td>West_Bengal</td>\n",
       "      <td>Kolkata</td>\n",
       "      <td>Ballygunge, Kolkata - WBPCB</td>\n",
       "      <td>21-10-2021 01:00:00</td>\n",
       "      <td>67</td>\n",
       "      <td>82</td>\n",
       "      <td>42</td>\n",
       "      <td>3</td>\n",
       "      <td>14</td>\n",
       "      <td>28</td>\n",
       "      <td>45</td>\n",
       "      <td>192</td>\n",
       "      <td>2</td>\n",
       "    </tr>\n",
       "    <tr>\n",
       "      <th>275</th>\n",
       "      <td>276</td>\n",
       "      <td>India</td>\n",
       "      <td>West_Bengal</td>\n",
       "      <td>Kolkata</td>\n",
       "      <td>Bidhannagar, Kolkata - WBPCB</td>\n",
       "      <td>21-10-2021 01:00:00</td>\n",
       "      <td>131</td>\n",
       "      <td>91</td>\n",
       "      <td>41</td>\n",
       "      <td>2</td>\n",
       "      <td>12</td>\n",
       "      <td>38</td>\n",
       "      <td>36</td>\n",
       "      <td>308</td>\n",
       "      <td>4</td>\n",
       "    </tr>\n",
       "    <tr>\n",
       "      <th>276</th>\n",
       "      <td>277</td>\n",
       "      <td>India</td>\n",
       "      <td>West_Bengal</td>\n",
       "      <td>Kolkata</td>\n",
       "      <td>Fort William, Kolkata - WBPCB</td>\n",
       "      <td>21-10-2021 01:00:00</td>\n",
       "      <td>0</td>\n",
       "      <td>0</td>\n",
       "      <td>0</td>\n",
       "      <td>0</td>\n",
       "      <td>0</td>\n",
       "      <td>0</td>\n",
       "      <td>0</td>\n",
       "      <td>0</td>\n",
       "      <td>0</td>\n",
       "    </tr>\n",
       "    <tr>\n",
       "      <th>277</th>\n",
       "      <td>278</td>\n",
       "      <td>India</td>\n",
       "      <td>West_Bengal</td>\n",
       "      <td>Kolkata</td>\n",
       "      <td>Jadavpur, Kolkata - WBPCB</td>\n",
       "      <td>21-10-2021 01:00:00</td>\n",
       "      <td>91</td>\n",
       "      <td>84</td>\n",
       "      <td>14</td>\n",
       "      <td>2</td>\n",
       "      <td>8</td>\n",
       "      <td>12</td>\n",
       "      <td>30</td>\n",
       "      <td>203</td>\n",
       "      <td>3</td>\n",
       "    </tr>\n",
       "    <tr>\n",
       "      <th>278</th>\n",
       "      <td>279</td>\n",
       "      <td>India</td>\n",
       "      <td>West_Bengal</td>\n",
       "      <td>Kolkata</td>\n",
       "      <td>Rabindra Bharati University, Kolkata - WBPCB</td>\n",
       "      <td>21-10-2021 01:00:00</td>\n",
       "      <td>0</td>\n",
       "      <td>0</td>\n",
       "      <td>0</td>\n",
       "      <td>0</td>\n",
       "      <td>0</td>\n",
       "      <td>24</td>\n",
       "      <td>81</td>\n",
       "      <td>0</td>\n",
       "      <td>0</td>\n",
       "    </tr>\n",
       "    <tr>\n",
       "      <th>279</th>\n",
       "      <td>280</td>\n",
       "      <td>India</td>\n",
       "      <td>West_Bengal</td>\n",
       "      <td>Kolkata</td>\n",
       "      <td>Rabindra Sarobar, Kolkata - WBPCB</td>\n",
       "      <td>21-10-2021 01:00:00</td>\n",
       "      <td>51</td>\n",
       "      <td>74</td>\n",
       "      <td>19</td>\n",
       "      <td>7</td>\n",
       "      <td>4</td>\n",
       "      <td>39</td>\n",
       "      <td>31</td>\n",
       "      <td>243</td>\n",
       "      <td>3</td>\n",
       "    </tr>\n",
       "    <tr>\n",
       "      <th>280</th>\n",
       "      <td>281</td>\n",
       "      <td>India</td>\n",
       "      <td>West_Bengal</td>\n",
       "      <td>Kolkata</td>\n",
       "      <td>Victoria, Kolkata - WBPCB</td>\n",
       "      <td>21-10-2021 01:00:00</td>\n",
       "      <td>54</td>\n",
       "      <td>74</td>\n",
       "      <td>15</td>\n",
       "      <td>2</td>\n",
       "      <td>10</td>\n",
       "      <td>41</td>\n",
       "      <td>43</td>\n",
       "      <td>252</td>\n",
       "      <td>3</td>\n",
       "    </tr>\n",
       "  </tbody>\n",
       "</table>\n",
       "</div>"
      ],
      "text/plain": [
       "      id country        state     city  \\\n",
       "271  272   India  West_Bengal   Howrah   \n",
       "272  273   India  West_Bengal   Howrah   \n",
       "273  274   India  West_Bengal   Howrah   \n",
       "274  275   India  West_Bengal  Kolkata   \n",
       "275  276   India  West_Bengal  Kolkata   \n",
       "276  277   India  West_Bengal  Kolkata   \n",
       "277  278   India  West_Bengal  Kolkata   \n",
       "278  279   India  West_Bengal  Kolkata   \n",
       "279  280   India  West_Bengal  Kolkata   \n",
       "280  281   India  West_Bengal  Kolkata   \n",
       "\n",
       "                                          station          last_update  PM2.5  \\\n",
       "271                    Belur Math, Howrah - WBPCB  21-10-2021 01:00:00     70   \n",
       "272                       Ghusuri, Howrah - WBPCB  21-10-2021 01:00:00    123   \n",
       "273                    Padmapukur, Howrah - WBPCB  21-10-2021 01:00:00     57   \n",
       "274                   Ballygunge, Kolkata - WBPCB  21-10-2021 01:00:00     67   \n",
       "275                  Bidhannagar, Kolkata - WBPCB  21-10-2021 01:00:00    131   \n",
       "276                 Fort William, Kolkata - WBPCB  21-10-2021 01:00:00      0   \n",
       "277                     Jadavpur, Kolkata - WBPCB  21-10-2021 01:00:00     91   \n",
       "278  Rabindra Bharati University, Kolkata - WBPCB  21-10-2021 01:00:00      0   \n",
       "279             Rabindra Sarobar, Kolkata - WBPCB  21-10-2021 01:00:00     51   \n",
       "280                     Victoria, Kolkata - WBPCB  21-10-2021 01:00:00     54   \n",
       "\n",
       "     PM10  NO2  NH3  SO2  CO  OZONE  AQI  Air Quality  \n",
       "271    92   61    4    9  74     10  345            4  \n",
       "272   116    0    4    7  80     20  357            4  \n",
       "273    57    6    3    4  27     19  188            2  \n",
       "274    82   42    3   14  28     45  192            2  \n",
       "275    91   41    2   12  38     36  308            4  \n",
       "276     0    0    0    0   0      0    0            0  \n",
       "277    84   14    2    8  12     30  203            3  \n",
       "278     0    0    0    0  24     81    0            0  \n",
       "279    74   19    7    4  39     31  243            3  \n",
       "280    74   15    2   10  41     43  252            3  "
      ]
     },
     "execution_count": 2,
     "metadata": {},
     "output_type": "execute_result"
    }
   ],
   "source": [
    "data=pd.read_csv(r\"AQI5.csv\")\n",
    "data.tail(10)"
   ]
  },
  {
   "cell_type": "code",
   "execution_count": 3,
   "id": "7b8a6a8f",
   "metadata": {},
   "outputs": [
    {
     "data": {
      "text/plain": [
       "id             0\n",
       "country        0\n",
       "state          0\n",
       "city           0\n",
       "station        0\n",
       "last_update    0\n",
       "PM2.5          0\n",
       "PM10           0\n",
       "NO2            0\n",
       "NH3            0\n",
       "SO2            0\n",
       "CO             0\n",
       "OZONE          0\n",
       "AQI            0\n",
       "Air Quality    0\n",
       "dtype: int64"
      ]
     },
     "execution_count": 3,
     "metadata": {},
     "output_type": "execute_result"
    }
   ],
   "source": [
    "data.isnull().sum()"
   ]
  },
  {
   "cell_type": "code",
   "execution_count": 4,
   "id": "f1c32106",
   "metadata": {},
   "outputs": [],
   "source": [
    "\n",
    "x=data.drop(columns=['AQI','id','country','state','city','station','last_update','Air Quality'])\n",
    "y=data['AQI']"
   ]
  },
  {
   "cell_type": "code",
   "execution_count": 5,
   "id": "4e7c7d47",
   "metadata": {},
   "outputs": [
    {
     "data": {
      "text/plain": [
       "id             0\n",
       "country        0\n",
       "state          0\n",
       "city           0\n",
       "station        0\n",
       "last_update    0\n",
       "PM2.5          0\n",
       "PM10           0\n",
       "NO2            0\n",
       "NH3            0\n",
       "SO2            0\n",
       "CO             0\n",
       "OZONE          0\n",
       "AQI            0\n",
       "Air Quality    0\n",
       "dtype: int64"
      ]
     },
     "execution_count": 5,
     "metadata": {},
     "output_type": "execute_result"
    }
   ],
   "source": [
    "data.isnull().sum()"
   ]
  },
  {
   "cell_type": "code",
   "execution_count": 6,
   "id": "a02e7af5",
   "metadata": {},
   "outputs": [],
   "source": [
    "data =data.fillna(data.mean())"
   ]
  },
  {
   "cell_type": "code",
   "execution_count": 7,
   "id": "55b0b25a",
   "metadata": {},
   "outputs": [
    {
     "data": {
      "text/html": [
       "<div>\n",
       "<style scoped>\n",
       "    .dataframe tbody tr th:only-of-type {\n",
       "        vertical-align: middle;\n",
       "    }\n",
       "\n",
       "    .dataframe tbody tr th {\n",
       "        vertical-align: top;\n",
       "    }\n",
       "\n",
       "    .dataframe thead th {\n",
       "        text-align: right;\n",
       "    }\n",
       "</style>\n",
       "<table border=\"1\" class=\"dataframe\">\n",
       "  <thead>\n",
       "    <tr style=\"text-align: right;\">\n",
       "      <th></th>\n",
       "      <th>id</th>\n",
       "      <th>country</th>\n",
       "      <th>state</th>\n",
       "      <th>city</th>\n",
       "      <th>station</th>\n",
       "      <th>last_update</th>\n",
       "      <th>PM2.5</th>\n",
       "      <th>PM10</th>\n",
       "      <th>NO2</th>\n",
       "      <th>NH3</th>\n",
       "      <th>SO2</th>\n",
       "      <th>CO</th>\n",
       "      <th>OZONE</th>\n",
       "      <th>AQI</th>\n",
       "      <th>Air Quality</th>\n",
       "    </tr>\n",
       "  </thead>\n",
       "  <tbody>\n",
       "    <tr>\n",
       "      <th>0</th>\n",
       "      <td>1</td>\n",
       "      <td>India</td>\n",
       "      <td>Andhra_Pradesh</td>\n",
       "      <td>Amaravati</td>\n",
       "      <td>Secretariat, Amaravati - APPCB</td>\n",
       "      <td>21-10-2021 01:00:00</td>\n",
       "      <td>86</td>\n",
       "      <td>105</td>\n",
       "      <td>19</td>\n",
       "      <td>4</td>\n",
       "      <td>27</td>\n",
       "      <td>32</td>\n",
       "      <td>42</td>\n",
       "      <td>210</td>\n",
       "      <td>3</td>\n",
       "    </tr>\n",
       "    <tr>\n",
       "      <th>1</th>\n",
       "      <td>2</td>\n",
       "      <td>India</td>\n",
       "      <td>Andhra_Pradesh</td>\n",
       "      <td>Rajamahendravaram</td>\n",
       "      <td>Anand Kala Kshetram, Rajamahendravaram - APPCB</td>\n",
       "      <td>21-10-2021 01:00:00</td>\n",
       "      <td>71</td>\n",
       "      <td>86</td>\n",
       "      <td>23</td>\n",
       "      <td>0</td>\n",
       "      <td>5</td>\n",
       "      <td>20</td>\n",
       "      <td>18</td>\n",
       "      <td>158</td>\n",
       "      <td>2</td>\n",
       "    </tr>\n",
       "    <tr>\n",
       "      <th>2</th>\n",
       "      <td>3</td>\n",
       "      <td>India</td>\n",
       "      <td>Andhra_Pradesh</td>\n",
       "      <td>Tirupati</td>\n",
       "      <td>Tirumala, Tirupati - APPCB</td>\n",
       "      <td>21-10-2021 01:00:00</td>\n",
       "      <td>92</td>\n",
       "      <td>86</td>\n",
       "      <td>49</td>\n",
       "      <td>2</td>\n",
       "      <td>7</td>\n",
       "      <td>51</td>\n",
       "      <td>25</td>\n",
       "      <td>300</td>\n",
       "      <td>3</td>\n",
       "    </tr>\n",
       "    <tr>\n",
       "      <th>3</th>\n",
       "      <td>4</td>\n",
       "      <td>India</td>\n",
       "      <td>Andhra_Pradesh</td>\n",
       "      <td>Visakhapatnam</td>\n",
       "      <td>GVM Corporation, Visakhapatnam - APPCB</td>\n",
       "      <td>21-10-2021 01:00:00</td>\n",
       "      <td>202</td>\n",
       "      <td>157</td>\n",
       "      <td>91</td>\n",
       "      <td>4</td>\n",
       "      <td>10</td>\n",
       "      <td>46</td>\n",
       "      <td>25</td>\n",
       "      <td>363</td>\n",
       "      <td>4</td>\n",
       "    </tr>\n",
       "    <tr>\n",
       "      <th>4</th>\n",
       "      <td>5</td>\n",
       "      <td>India</td>\n",
       "      <td>Assam</td>\n",
       "      <td>Guwahati</td>\n",
       "      <td>Pan Bazaar, Guwahati - APCB</td>\n",
       "      <td>21-10-2021 01:00:00</td>\n",
       "      <td>11</td>\n",
       "      <td>0</td>\n",
       "      <td>5</td>\n",
       "      <td>2</td>\n",
       "      <td>88</td>\n",
       "      <td>7</td>\n",
       "      <td>20</td>\n",
       "      <td>104</td>\n",
       "      <td>2</td>\n",
       "    </tr>\n",
       "    <tr>\n",
       "      <th>5</th>\n",
       "      <td>6</td>\n",
       "      <td>India</td>\n",
       "      <td>Assam</td>\n",
       "      <td>Guwahati</td>\n",
       "      <td>Railway Colony, Guwahati - APCB</td>\n",
       "      <td>21-10-2021 01:00:00</td>\n",
       "      <td>11</td>\n",
       "      <td>14</td>\n",
       "      <td>5</td>\n",
       "      <td>1</td>\n",
       "      <td>38</td>\n",
       "      <td>11</td>\n",
       "      <td>20</td>\n",
       "      <td>121</td>\n",
       "      <td>2</td>\n",
       "    </tr>\n",
       "    <tr>\n",
       "      <th>6</th>\n",
       "      <td>7</td>\n",
       "      <td>India</td>\n",
       "      <td>Bihar</td>\n",
       "      <td>Gaya</td>\n",
       "      <td>Collectorate, Gaya - BSPCB</td>\n",
       "      <td>21-10-2021 01:00:00</td>\n",
       "      <td>101</td>\n",
       "      <td>0</td>\n",
       "      <td>6</td>\n",
       "      <td>0</td>\n",
       "      <td>15</td>\n",
       "      <td>59</td>\n",
       "      <td>11</td>\n",
       "      <td>316</td>\n",
       "      <td>4</td>\n",
       "    </tr>\n",
       "    <tr>\n",
       "      <th>7</th>\n",
       "      <td>8</td>\n",
       "      <td>India</td>\n",
       "      <td>Bihar</td>\n",
       "      <td>Gaya</td>\n",
       "      <td>SFTI Kusdihra, Gaya - BSPCB</td>\n",
       "      <td>21-10-2021 01:00:00</td>\n",
       "      <td>45</td>\n",
       "      <td>42</td>\n",
       "      <td>24</td>\n",
       "      <td>2</td>\n",
       "      <td>3</td>\n",
       "      <td>42</td>\n",
       "      <td>17</td>\n",
       "      <td>257</td>\n",
       "      <td>3</td>\n",
       "    </tr>\n",
       "    <tr>\n",
       "      <th>8</th>\n",
       "      <td>9</td>\n",
       "      <td>India</td>\n",
       "      <td>Bihar</td>\n",
       "      <td>Hajipur</td>\n",
       "      <td>Industrial Area, Hajipur - BSPCB</td>\n",
       "      <td>21-10-2021 01:00:00</td>\n",
       "      <td>83</td>\n",
       "      <td>60</td>\n",
       "      <td>10</td>\n",
       "      <td>1</td>\n",
       "      <td>7</td>\n",
       "      <td>72</td>\n",
       "      <td>35</td>\n",
       "      <td>341</td>\n",
       "      <td>4</td>\n",
       "    </tr>\n",
       "    <tr>\n",
       "      <th>9</th>\n",
       "      <td>10</td>\n",
       "      <td>India</td>\n",
       "      <td>Bihar</td>\n",
       "      <td>Muzaffarpur</td>\n",
       "      <td>Buddha Colony, Muzaffarpur - BSPCB</td>\n",
       "      <td>21-10-2021 01:00:00</td>\n",
       "      <td>51</td>\n",
       "      <td>65</td>\n",
       "      <td>13</td>\n",
       "      <td>4</td>\n",
       "      <td>10</td>\n",
       "      <td>46</td>\n",
       "      <td>50</td>\n",
       "      <td>276</td>\n",
       "      <td>3</td>\n",
       "    </tr>\n",
       "  </tbody>\n",
       "</table>\n",
       "</div>"
      ],
      "text/plain": [
       "   id country           state               city  \\\n",
       "0   1   India  Andhra_Pradesh          Amaravati   \n",
       "1   2   India  Andhra_Pradesh  Rajamahendravaram   \n",
       "2   3   India  Andhra_Pradesh           Tirupati   \n",
       "3   4   India  Andhra_Pradesh      Visakhapatnam   \n",
       "4   5   India           Assam           Guwahati   \n",
       "5   6   India           Assam           Guwahati   \n",
       "6   7   India           Bihar               Gaya   \n",
       "7   8   India           Bihar               Gaya   \n",
       "8   9   India           Bihar            Hajipur   \n",
       "9  10   India           Bihar        Muzaffarpur   \n",
       "\n",
       "                                          station          last_update  PM2.5  \\\n",
       "0                  Secretariat, Amaravati - APPCB  21-10-2021 01:00:00     86   \n",
       "1  Anand Kala Kshetram, Rajamahendravaram - APPCB  21-10-2021 01:00:00     71   \n",
       "2                      Tirumala, Tirupati - APPCB  21-10-2021 01:00:00     92   \n",
       "3          GVM Corporation, Visakhapatnam - APPCB  21-10-2021 01:00:00    202   \n",
       "4                     Pan Bazaar, Guwahati - APCB  21-10-2021 01:00:00     11   \n",
       "5                 Railway Colony, Guwahati - APCB  21-10-2021 01:00:00     11   \n",
       "6                      Collectorate, Gaya - BSPCB  21-10-2021 01:00:00    101   \n",
       "7                     SFTI Kusdihra, Gaya - BSPCB  21-10-2021 01:00:00     45   \n",
       "8                Industrial Area, Hajipur - BSPCB  21-10-2021 01:00:00     83   \n",
       "9              Buddha Colony, Muzaffarpur - BSPCB  21-10-2021 01:00:00     51   \n",
       "\n",
       "   PM10  NO2  NH3  SO2  CO  OZONE  AQI  Air Quality  \n",
       "0   105   19    4   27  32     42  210            3  \n",
       "1    86   23    0    5  20     18  158            2  \n",
       "2    86   49    2    7  51     25  300            3  \n",
       "3   157   91    4   10  46     25  363            4  \n",
       "4     0    5    2   88   7     20  104            2  \n",
       "5    14    5    1   38  11     20  121            2  \n",
       "6     0    6    0   15  59     11  316            4  \n",
       "7    42   24    2    3  42     17  257            3  \n",
       "8    60   10    1    7  72     35  341            4  \n",
       "9    65   13    4   10  46     50  276            3  "
      ]
     },
     "execution_count": 7,
     "metadata": {},
     "output_type": "execute_result"
    }
   ],
   "source": [
    "\n",
    "data.head(10)"
   ]
  },
  {
   "cell_type": "code",
   "execution_count": null,
   "id": "5873b863",
   "metadata": {},
   "outputs": [],
   "source": []
  },
  {
   "cell_type": "code",
   "execution_count": 8,
   "id": "64cdc09a",
   "metadata": {},
   "outputs": [],
   "source": [
    "from sklearn.model_selection import train_test_split\n",
    "x_train, x_test, y_train, y_test = train_test_split(x, y, random_state = 3, test_size = 0.15)"
   ]
  },
  {
   "cell_type": "code",
   "execution_count": 9,
   "id": "1fd3d69d",
   "metadata": {},
   "outputs": [],
   "source": [
    "from sklearn.linear_model import LinearRegression\n",
    "model=LinearRegression()"
   ]
  },
  {
   "cell_type": "code",
   "execution_count": 10,
   "id": "0f64e143",
   "metadata": {},
   "outputs": [
    {
     "data": {
      "text/plain": [
       "LinearRegression()"
      ]
     },
     "execution_count": 10,
     "metadata": {},
     "output_type": "execute_result"
    }
   ],
   "source": [
    "model.fit(x_train,y_train)"
   ]
  },
  {
   "cell_type": "code",
   "execution_count": 11,
   "id": "c7331012",
   "metadata": {},
   "outputs": [
    {
     "data": {
      "text/plain": [
       "PM2.5    0\n",
       "PM10     0\n",
       "NO2      0\n",
       "NH3      0\n",
       "SO2      0\n",
       "CO       0\n",
       "OZONE    0\n",
       "dtype: int64"
      ]
     },
     "execution_count": 11,
     "metadata": {},
     "output_type": "execute_result"
    }
   ],
   "source": [
    "x_test.isnull().sum()"
   ]
  },
  {
   "cell_type": "code",
   "execution_count": 12,
   "id": "624e29ec",
   "metadata": {},
   "outputs": [],
   "source": [
    "y_pred=model.predict(x_test)"
   ]
  },
  {
   "cell_type": "code",
   "execution_count": 13,
   "id": "4d2791ac",
   "metadata": {},
   "outputs": [
    {
     "data": {
      "text/plain": [
       "(43,)"
      ]
     },
     "execution_count": 13,
     "metadata": {},
     "output_type": "execute_result"
    }
   ],
   "source": [
    "y_pred.shape"
   ]
  },
  {
   "cell_type": "code",
   "execution_count": 14,
   "id": "81aa36c2",
   "metadata": {},
   "outputs": [
    {
     "data": {
      "text/plain": [
       "0.8012705709811594"
      ]
     },
     "execution_count": 14,
     "metadata": {},
     "output_type": "execute_result"
    }
   ],
   "source": [
    "model.score(x_test, y_test)"
   ]
  },
  {
   "cell_type": "code",
   "execution_count": 15,
   "id": "cdbd50e8",
   "metadata": {},
   "outputs": [
    {
     "data": {
      "text/plain": [
       "Text(0, 0.5, 'Predicted Values')"
      ]
     },
     "execution_count": 15,
     "metadata": {},
     "output_type": "execute_result"
    },
    {
     "data": {
      "image/png": "[encoded data removed]",
      "text/plain": [
       "<Figure size 432x288 with 1 Axes>"
      ]
     },
     "metadata": {
      "needs_background": "light"
     },
     "output_type": "display_data"
    }
   ],
   "source": [
    "plt.scatter(y_test,y_pred)\n",
    "plt.plot(y_test,y_test,color='red')\n",
    "plt.xlabel(\"Original Values\")\n",
    "plt.ylabel(\"Predicted Values\")"
   ]
  },
  {
   "cell_type": "code",
   "execution_count": 16,
   "id": "254a08da",
   "metadata": {},
   "outputs": [
    {
     "name": "stdout",
     "output_type": "stream",
     "text": [
      "[271.80250602]\n",
      "Poor\n"
     ]
    }
   ],
   "source": [
    "result=model.predict([[92,86,49,2,7,51,25]])\n",
    "print(result)\n",
    "if result>=0 and result<=50:\n",
    "    print(\"Good\")\n",
    "if result>=51 and result<=100:\n",
    "    print(\"satisfactory\") \n",
    "if result>=101 and result<=200:\n",
    "    print(\"Moderate\")\n",
    "if result>=201 and result<=300:\n",
    "    print(\"Poor\")\n",
    "if result>=301 and result<=400:\n",
    "    print(\"Very poor\")\n",
    "if result>=401 and result<=1000:\n",
    "    print(\"Severe\")"
   ]
  },
  {
   "cell_type": "code",
   "execution_count": null,
   "id": "8471cf49",
   "metadata": {},
   "outputs": [],
   "source": []
  },
  {
   "cell_type": "code",
   "execution_count": null,
   "id": "85005f07",
   "metadata": {},
   "outputs": [],
   "source": []
  },
  {
   "cell_type": "code",
   "execution_count": null,
   "id": "b2b40451",
   "metadata": {},
   "outputs": [],
   "source": []
  },
  {
   "cell_type": "code",
   "execution_count": null,
   "id": "33b6c78d",
   "metadata": {},
   "outputs": [],
   "source": []
  },
  {
   "cell_type": "code",
   "execution_count": 17,
   "id": "dd67b565",
   "metadata": {},
   "outputs": [],
   "source": [
    "data_count=data.groupby(['city'])['AQI'].mean().nlargest(10)"
   ]
  },
  {
   "cell_type": "code",
   "execution_count": 18,
   "id": "79ef1130",
   "metadata": {},
   "outputs": [],
   "source": [
    "data_count=data_count.head(10)"
   ]
  },
  {
   "cell_type": "code",
   "execution_count": 19,
   "id": "9f18ab32",
   "metadata": {},
   "outputs": [
    {
     "data": {
      "text/plain": [
       "<AxesSubplot:xlabel='city'>"
      ]
     },
     "execution_count": 19,
     "metadata": {},
     "output_type": "execute_result"
    },
    {
     "data": {
      "image/png": "[encoded data removed]",
      "text/plain": [
       "<Figure size 432x288 with 1 Axes>"
      ]
     },
     "metadata": {
      "needs_background": "light"
     },
     "output_type": "display_data"
    }
   ],
   "source": [
    "data_count.plot(kind='bar')"
   ]
  },
  {
   "cell_type": "code",
   "execution_count": 20,
   "id": "1de2fbdf",
   "metadata": {},
   "outputs": [],
   "source": [
    "import seaborn as sns"
   ]
  },
  {
   "cell_type": "code",
   "execution_count": 21,
   "id": "802fdf47",
   "metadata": {},
   "outputs": [],
   "source": [
    "dt_count = data['Air Quality'].value_counts()"
   ]
  },
  {
   "cell_type": "code",
   "execution_count": 22,
   "id": "828c7fb9",
   "metadata": {},
   "outputs": [
    {
     "data": {
      "text/plain": [
       "4    125\n",
       "3     64\n",
       "2     55\n",
       "5     19\n",
       "0     17\n",
       "1      1\n",
       "Name: Air Quality, dtype: int64"
      ]
     },
     "execution_count": 22,
     "metadata": {},
     "output_type": "execute_result"
    }
   ],
   "source": [
    "dt_count"
   ]
  },
  {
   "cell_type": "code",
   "execution_count": 23,
   "id": "f039269b",
   "metadata": {},
   "outputs": [
    {
     "data": {
      "image/png": "[encoded data removed]",
      "text/plain": [
       "<Figure size 648x648 with 1 Axes>"
      ]
     },
     "metadata": {},
     "output_type": "display_data"
    }
   ],
   "source": [
    "plt.rcParams[\"figure.figsize\"] = [9.00, 9.00]\n",
    "colors = sns.color_palette('pastel')[0:5]\n",
    "plt.pie(dt_count, labels = dt_count.keys(), colors = colors,autopct='%1.1f')\n",
    "plt.show()"
   ]
  },
  {
   "cell_type": "code",
   "execution_count": null,
   "id": "954d995a",
   "metadata": {},
   "outputs": [],
   "source": []
  }
 ],
 "metadata": {
  "kernelspec": {
   "display_name": "Python 3",
   "language": "python",
   "name": "python3"
  },
  "language_info": {
   "codemirror_mode": {
    "name": "ipython",
    "version": 3
   },
   "file_extension": ".py",
   "mimetype": "text/x-python",
   "name": "python",
   "nbconvert_exporter": "python",
   "pygments_lexer": "ipython3",
   "version": "3.8.8"
  }
 },
 "nbformat": 4,
 "nbformat_minor": 5
}
